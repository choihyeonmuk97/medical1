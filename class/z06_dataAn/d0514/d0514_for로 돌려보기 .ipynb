{
 "cells": [
  {
   "cell_type": "code",
   "execution_count": 5,
   "metadata": {},
   "outputs": [],
   "source": [
    "import matplotlib.pyplot as plt\n",
    "import matplotlib\n",
    "matplotlib.rcParams['font.family'] = 'Malgun Gothic' # Windows 한글 폰트\n",
    "matplotlib.rcParams['font.size'] = '10' # font size\n",
    "matplotlib.rcParams['axes.unicode_minus'] = False # - 기호 깨짐 현상을 해결함\n",
    "import numpy as np"
   ]
  },
  {
   "cell_type": "code",
   "execution_count": 146,
   "metadata": {},
   "outputs": [
    {
     "name": "stderr",
     "output_type": "stream",
     "text": [
      "c:\\Python312\\Lib\\site-packages\\openpyxl\\styles\\stylesheet.py:226: UserWarning: Workbook contains no default style, apply openpyxl's default\n",
      "  warn(\"Workbook contains no default style, apply openpyxl's default\")\n",
      "c:\\Python312\\Lib\\site-packages\\openpyxl\\styles\\stylesheet.py:226: UserWarning: Workbook contains no default style, apply openpyxl's default\n",
      "  warn(\"Workbook contains no default style, apply openpyxl's default\")\n"
     ]
    },
    {
     "data": {
      "text/html": [
       "<div>\n",
       "<style scoped>\n",
       "    .dataframe tbody tr th:only-of-type {\n",
       "        vertical-align: middle;\n",
       "    }\n",
       "\n",
       "    .dataframe tbody tr th {\n",
       "        vertical-align: top;\n",
       "    }\n",
       "\n",
       "    .dataframe thead th {\n",
       "        text-align: right;\n",
       "    }\n",
       "</style>\n",
       "<table border=\"1\" class=\"dataframe\">\n",
       "  <thead>\n",
       "    <tr style=\"text-align: right;\">\n",
       "      <th></th>\n",
       "      <th>0~4세</th>\n",
       "      <th>5~9세</th>\n",
       "      <th>10~14세</th>\n",
       "      <th>15~19세</th>\n",
       "      <th>20~24세</th>\n",
       "      <th>25~29세</th>\n",
       "      <th>30~34세</th>\n",
       "      <th>35~39세</th>\n",
       "      <th>40~44세</th>\n",
       "      <th>45~49세</th>\n",
       "      <th>...</th>\n",
       "      <th>55~59세</th>\n",
       "      <th>60~64세</th>\n",
       "      <th>65~69세</th>\n",
       "      <th>70~74세</th>\n",
       "      <th>75~79세</th>\n",
       "      <th>80~84세</th>\n",
       "      <th>85~89세</th>\n",
       "      <th>90~94세</th>\n",
       "      <th>95~99세</th>\n",
       "      <th>100세 이상</th>\n",
       "    </tr>\n",
       "    <tr>\n",
       "      <th>행정기관</th>\n",
       "      <th></th>\n",
       "      <th></th>\n",
       "      <th></th>\n",
       "      <th></th>\n",
       "      <th></th>\n",
       "      <th></th>\n",
       "      <th></th>\n",
       "      <th></th>\n",
       "      <th></th>\n",
       "      <th></th>\n",
       "      <th></th>\n",
       "      <th></th>\n",
       "      <th></th>\n",
       "      <th></th>\n",
       "      <th></th>\n",
       "      <th></th>\n",
       "      <th></th>\n",
       "      <th></th>\n",
       "      <th></th>\n",
       "      <th></th>\n",
       "      <th></th>\n",
       "    </tr>\n",
       "  </thead>\n",
       "  <tbody>\n",
       "    <tr>\n",
       "      <th>전국</th>\n",
       "      <td>726,460</td>\n",
       "      <td>1,072,653</td>\n",
       "      <td>1,211,077</td>\n",
       "      <td>1,211,949</td>\n",
       "      <td>1,524,378</td>\n",
       "      <td>1,823,908</td>\n",
       "      <td>1,737,714</td>\n",
       "      <td>1,684,266</td>\n",
       "      <td>2,055,130</td>\n",
       "      <td>2,039,606</td>\n",
       "      <td>...</td>\n",
       "      <td>2,052,227</td>\n",
       "      <td>2,097,254</td>\n",
       "      <td>1,554,976</td>\n",
       "      <td>1,038,388</td>\n",
       "      <td>713,448</td>\n",
       "      <td>507,915</td>\n",
       "      <td>212,726</td>\n",
       "      <td>54,180</td>\n",
       "      <td>8,880</td>\n",
       "      <td>1,307</td>\n",
       "    </tr>\n",
       "  </tbody>\n",
       "</table>\n",
       "<p>1 rows × 21 columns</p>\n",
       "</div>"
      ],
      "text/plain": [
       "         0~4세       5~9세     10~14세     15~19세     20~24세     25~29세  \\\n",
       "행정기관                                                                   \n",
       "전국    726,460  1,072,653  1,211,077  1,211,949  1,524,378  1,823,908   \n",
       "\n",
       "         30~34세     35~39세     40~44세     45~49세  ...     55~59세     60~64세  \\\n",
       "행정기관                                              ...                         \n",
       "전국    1,737,714  1,684,266  2,055,130  2,039,606  ...  2,052,227  2,097,254   \n",
       "\n",
       "         65~69세     70~74세   75~79세   80~84세   85~89세  90~94세 95~99세 100세 이상  \n",
       "행정기관                                                                          \n",
       "전국    1,554,976  1,038,388  713,448  507,915  212,726  54,180  8,880   1,307  \n",
       "\n",
       "[1 rows x 21 columns]"
      ]
     },
     "execution_count": 146,
     "metadata": {},
     "output_type": "execute_result"
    }
   ],
   "source": [
    "import pandas as pd\n",
    "#df = pd.read_excel('../z20_data/20230104_연령별인구현황.xlsx',skiprows=3,thousands = ',',index_col='행정기관',usecols='B,E:Y')\n",
    "df = pd.read_excel('../z20_data/20230104_연령별인구현황.xlsx',skiprows=3,nrows=1,index_col='행정기관',usecols='B,E:Y')\n",
    "df1 = pd.read_excel('../z20_data/20230104_연령별인구현황.xlsx',skiprows=3,nrows=1,index_col='행정기관',usecols='B,AY:BS')\n",
    "df2 = pd.read_excel('../z20_data/20230104_연령별인구현황.xlsx',skiprows=3,nrows=1,index_col='행정기관',usecols='B,CS:DM')\n",
    "df3 = pd.read_excel('../z20_data/20230104_연령별인구현황.xlsx',skiprows=3,nrows=1,index_col='행정기관',usecols='B,AY:BS')\n",
    "df"
   ]
  },
  {
   "cell_type": "code",
   "execution_count": 137,
   "metadata": {},
   "outputs": [
    {
     "data": {
      "text/plain": [
       "Index(['전국  '], dtype='object', name='행정기관')"
      ]
     },
     "execution_count": 137,
     "metadata": {},
     "output_type": "execute_result"
    }
   ],
   "source": [
    "df.index\n",
    "df1.index"
   ]
  },
  {
   "cell_type": "code",
   "execution_count": 140,
   "metadata": {},
   "outputs": [
    {
     "data": {
      "text/plain": [
       "Index(['0~4세.2', '5~9세.2', '10~14세.2', '15~19세.2', '20~24세.2', '25~29세.2',\n",
       "       '30~34세.2', '35~39세.2', '40~44세.2', '45~49세.2', '50~54세.2', '55~59세.2',\n",
       "       '60~64세.2', '65~69세.2', '70~74세.2', '75~79세.2', '80~84세.2', '85~89세.2',\n",
       "       '90~94세.2', '95~99세.2', '100세 이상.2'],\n",
       "      dtype='object')"
      ]
     },
     "execution_count": 140,
     "metadata": {},
     "output_type": "execute_result"
    }
   ],
   "source": [
    "df.columns\n",
    "df1.columns"
   ]
  },
  {
   "cell_type": "code",
   "execution_count": 147,
   "metadata": {},
   "outputs": [],
   "source": [
    "df.loc['전국  '] = df.loc['전국  '].str.replace(',','').astype(int)\n",
    "df1.loc['전국  '] = df1.loc['전국  '].str.replace(',','').astype(int)"
   ]
  },
  {
   "cell_type": "code",
   "execution_count": 148,
   "metadata": {},
   "outputs": [
    {
     "data": {
      "text/plain": [
       "0~4세.2        722848\n",
       "5~9세.2       1067962\n",
       "10~14세.2     1210328\n",
       "15~19세.2     1210202\n",
       "20~24세.2     1516184\n",
       "25~29세.2     1816653\n",
       "30~34세.2     1738039\n",
       "35~39세.2     1676299\n",
       "40~44세.2     2058847\n",
       "45~49세.2     2038344\n",
       "50~54세.2     2302357\n",
       "55~59세.2     2054837\n",
       "60~64세.2     2102187\n",
       "65~69세.2     1563546\n",
       "70~74세.2     1039913\n",
       "75~79세.2      714082\n",
       "80~84세.2      513601\n",
       "85~89세.2      214782\n",
       "90~94세.2       54804\n",
       "95~99세.2        9005\n",
       "100세 이상.2       1391\n",
       "Name: 전국  , dtype: object"
      ]
     },
     "execution_count": 148,
     "metadata": {},
     "output_type": "execute_result"
    }
   ],
   "source": [
    "df.loc['전국  ']\n",
    "df1.loc['전국  ']\n"
   ]
  },
  {
   "cell_type": "code",
   "execution_count": 149,
   "metadata": {},
   "outputs": [],
   "source": [
    "df['0~14세'] = df.loc['전국  '][0:3].sum()\n",
    "df1['0~14세'] = df1.loc['전국  '][0:3].sum()\n",
    "\n",
    "df['15~64세'] = df.loc['전국  '][3:13].sum() # 3~12 18529528\n",
    "df1['15~64세'] = df1.loc['전국  '][3:13].sum() # 3~12 18529528\n",
    "\n",
    "df['65세 이상'] = df.loc['전국  '][13:21].sum() #13~20 4091820\n",
    "df1['65세 이상'] = df1.loc['전국  '][13:21].sum() #13~20 4091820"
   ]
  },
  {
   "cell_type": "code",
   "execution_count": 151,
   "metadata": {},
   "outputs": [
    {
     "data": {
      "text/html": [
       "<div>\n",
       "<style scoped>\n",
       "    .dataframe tbody tr th:only-of-type {\n",
       "        vertical-align: middle;\n",
       "    }\n",
       "\n",
       "    .dataframe tbody tr th {\n",
       "        vertical-align: top;\n",
       "    }\n",
       "\n",
       "    .dataframe thead th {\n",
       "        text-align: right;\n",
       "    }\n",
       "</style>\n",
       "<table border=\"1\" class=\"dataframe\">\n",
       "  <thead>\n",
       "    <tr style=\"text-align: right;\">\n",
       "      <th></th>\n",
       "      <th>0~4세.2</th>\n",
       "      <th>5~9세.2</th>\n",
       "      <th>10~14세.2</th>\n",
       "      <th>15~19세.2</th>\n",
       "      <th>20~24세.2</th>\n",
       "      <th>25~29세.2</th>\n",
       "      <th>30~34세.2</th>\n",
       "      <th>35~39세.2</th>\n",
       "      <th>40~44세.2</th>\n",
       "      <th>45~49세.2</th>\n",
       "      <th>...</th>\n",
       "      <th>70~74세.2</th>\n",
       "      <th>75~79세.2</th>\n",
       "      <th>80~84세.2</th>\n",
       "      <th>85~89세.2</th>\n",
       "      <th>90~94세.2</th>\n",
       "      <th>95~99세.2</th>\n",
       "      <th>100세 이상.2</th>\n",
       "      <th>0~14세</th>\n",
       "      <th>15~64세</th>\n",
       "      <th>65세 이상</th>\n",
       "    </tr>\n",
       "    <tr>\n",
       "      <th>행정기관</th>\n",
       "      <th></th>\n",
       "      <th></th>\n",
       "      <th></th>\n",
       "      <th></th>\n",
       "      <th></th>\n",
       "      <th></th>\n",
       "      <th></th>\n",
       "      <th></th>\n",
       "      <th></th>\n",
       "      <th></th>\n",
       "      <th></th>\n",
       "      <th></th>\n",
       "      <th></th>\n",
       "      <th></th>\n",
       "      <th></th>\n",
       "      <th></th>\n",
       "      <th></th>\n",
       "      <th></th>\n",
       "      <th></th>\n",
       "      <th></th>\n",
       "      <th></th>\n",
       "    </tr>\n",
       "  </thead>\n",
       "  <tbody>\n",
       "    <tr>\n",
       "      <th>전국</th>\n",
       "      <td>722848</td>\n",
       "      <td>1067962</td>\n",
       "      <td>1210328</td>\n",
       "      <td>1210202</td>\n",
       "      <td>1516184</td>\n",
       "      <td>1816653</td>\n",
       "      <td>1738039</td>\n",
       "      <td>1676299</td>\n",
       "      <td>2058847</td>\n",
       "      <td>2038344</td>\n",
       "      <td>...</td>\n",
       "      <td>1039913</td>\n",
       "      <td>714082</td>\n",
       "      <td>513601</td>\n",
       "      <td>214782</td>\n",
       "      <td>54804</td>\n",
       "      <td>9005</td>\n",
       "      <td>1391</td>\n",
       "      <td>3001138</td>\n",
       "      <td>18513949</td>\n",
       "      <td>4111124</td>\n",
       "    </tr>\n",
       "  </tbody>\n",
       "</table>\n",
       "<p>1 rows × 24 columns</p>\n",
       "</div>"
      ],
      "text/plain": [
       "      0~4세.2   5~9세.2 10~14세.2 15~19세.2 20~24세.2 25~29세.2 30~34세.2 35~39세.2  \\\n",
       "행정기관                                                                          \n",
       "전국    722848  1067962  1210328  1210202  1516184  1816653  1738039  1676299   \n",
       "\n",
       "     40~44세.2 45~49세.2  ... 70~74세.2 75~79세.2 80~84세.2 85~89세.2 90~94세.2  \\\n",
       "행정기관                    ...                                                \n",
       "전국    2058847  2038344  ...  1039913   714082   513601   214782    54804   \n",
       "\n",
       "     95~99세.2 100세 이상.2    0~14세    15~64세   65세 이상  \n",
       "행정기관                                                 \n",
       "전국       9005      1391  3001138  18513949  4111124  \n",
       "\n",
       "[1 rows x 24 columns]"
      ]
     },
     "execution_count": 151,
     "metadata": {},
     "output_type": "execute_result"
    }
   ],
   "source": [
    "df1"
   ]
  },
  {
   "cell_type": "code",
   "execution_count": 152,
   "metadata": {},
   "outputs": [
    {
     "data": {
      "image/png": "[encoded data removed]",
      "text/plain": [
       "<Figure size 640x480 with 1 Axes>"
      ]
     },
     "metadata": {},
     "output_type": "display_data"
    }
   ],
   "source": [
    "x = '2023년01월'\n",
    "y1 = df.loc['전국  ']['0~14세']\n",
    "y2 = df.loc['전국  ']['15~64세']\n",
    "y3 = df.loc['전국  ']['65세 이상']\n",
    "\n",
    "x1 = '2023년02월'\n",
    "y11 = df1.loc['전국  ']['0~14세']\n",
    "y21 = df1.loc['전국  ']['15~64세']\n",
    "y31 = df1.loc['전국  ']['65세 이상']\n",
    "\n",
    "for i in range(2):\n",
    "    \n",
    "    x+f'{i}' = f'2023년0{i+1}월'\n",
    "    y1 = df.loc['전국  ']['0~14세']\n",
    "    y2 = df.loc['전국  ']['15~64세']\n",
    "    y3 = df.loc['전국  ']['65세 이상']\n",
    "\n",
    "plt.bar(x,y1,label='0~14세')\n",
    "plt.bar(x,y2,bottom=y1,label='15~64세')\n",
    "plt.bar(x,y3,bottom=y1+y2, label='65세 이상')\n",
    "\n",
    "plt.bar(x1,y11,label='0~14세')\n",
    "plt.bar(x1,y21,bottom=y11,label='15~64세')\n",
    "plt.bar(x1,y31,bottom=y11+y21, label='65세 이상')\n",
    "plt.legend(loc=(1.01,0.3))\n",
    "\n",
    "plt.text(x,y1,f'{y1:,}',ha='center')\n",
    "plt.text(x,y1+y2,f'{y2:,}',ha='center')\n",
    "plt.text(x,y1+y2+y3,f'{y3:,}',ha='center')\n",
    "\n",
    "plt.text(x1,y11,f'{y11:,}',ha='center')\n",
    "plt.text(x1,y11+y21,f'{y21:,}',ha='center')\n",
    "plt.text(x1,y11+y21+y31,f'{y31:,}',ha='center')\n",
    "\n",
    "plt.show()"
   ]
  },
  {
   "cell_type": "code",
   "execution_count": null,
   "metadata": {},
   "outputs": [],
   "source": []
  }
 ],
 "metadata": {
  "kernelspec": {
   "display_name": "Python 3",
   "language": "python",
   "name": "python3"
  },
  "language_info": {
   "codemirror_mode": {
    "name": "ipython",
    "version": 3
   },
   "file_extension": ".py",
   "mimetype": "text/x-python",
   "name": "python",
   "nbconvert_exporter": "python",
   "pygments_lexer": "ipython3",
   "version": "3.12.0"
  }
 },
 "nbformat": 4,
 "nbformat_minor": 2
}
