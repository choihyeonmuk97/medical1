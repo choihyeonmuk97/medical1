{
 "cells": [
  {
   "cell_type": "code",
   "execution_count": 1,
   "metadata": {},
   "outputs": [],
   "source": [
    "# 정규표현식\n",
    "# . : 하나의 문자\n",
    "# ^ : 문자열의 시작\n",
    "# $ : 문자열의 끝\n",
    "# [] 안에 일치하는 문자를 입력할 수 있음 / ex) [0-9] : 0~9까지 숫자입력가능, [a-zA-Z] : 영문 만 입력가능, [ㄱ-ㅎ가-힣] : 국문만 입력가능\n",
    "# {} : 자리수(길이) / ex) {2} - 2자리, {3,} - 3자리수 이상, {,3} - 3자리수 까지, {2,3} - 2~3자리수만\n",
    "\n",
    "\n",
    "# match() : 반드시 일치해야 True\n",
    "# search() : 문구가 포함만 되어도 True\n",
    "# findall() : '리스트'에 일치하는 것이 있으면 True\n",
    "# group() : 일치하면 해당 문자를 출력\n",
    "# compile() : 정규식 형태 지정\n",
    "# sub() : 일치하는 데이터 삭제"
   ]
  },
  {
   "cell_type": "code",
   "execution_count": 14,
   "metadata": {},
   "outputs": [
    {
     "name": "stdout",
     "output_type": "stream",
     "text": [
      "불일치\n"
     ]
    }
   ],
   "source": [
    "import re\n",
    "\n",
    "p = re.compile('lo.k')\n",
    "word = 'lo0ck'\n",
    "\n",
    "if p.match(word):\n",
    "    print('일치',p.group())\n",
    "else : \n",
    "    print('불일치')"
   ]
  },
  {
   "cell_type": "code",
   "execution_count": 15,
   "metadata": {},
   "outputs": [
    {
     "name": "stdout",
     "output_type": "stream",
     "text": [
      "불일치\n"
     ]
    }
   ],
   "source": [
    "p = re.compile('ca.e')\n",
    "word = 'good care'\n",
    "\n",
    "if p.match(word):\n",
    "    print('일치')\n",
    "else : \n",
    "    print('불일치')"
   ]
  },
  {
   "cell_type": "code",
   "execution_count": 17,
   "metadata": {},
   "outputs": [
    {
     "name": "stdout",
     "output_type": "stream",
     "text": [
      "일치 삼성전자는 21일 개선된 AI(인공지능) 기능을 제공하는 \"갤럭시 북4 엣지\"를 공개했다.\n"
     ]
    }
   ],
   "source": [
    "word = '삼성전자는 21일 개선된 AI(인공지능) 기능을 제공하는 \"갤럭시 북4 엣지\"를 공개했다.'\n",
    "\n",
    "if re.search('지능',word):\n",
    "    print('일치',word)\n",
    "else : \n",
    "    print('불일치',word)"
   ]
  },
  {
   "cell_type": "code",
   "execution_count": 26,
   "metadata": {},
   "outputs": [
    {
     "name": "stdout",
     "output_type": "stream",
     "text": [
      "en\n"
     ]
    }
   ],
   "source": [
    "word = 'en-1.txt'\n",
    "word2 = 'fr-1.txt'\n",
    "re.match('^[a-z]{2,}',word2).group()\n",
    "\n",
    "if re.match('^[a-z]{2,}',word):\n",
    "    print(re.match('^[a-z]{2,}',word).group())\n",
    "else :\n",
    "    print('불일치')"
   ]
  },
  {
   "cell_type": "code",
   "execution_count": 29,
   "metadata": {},
   "outputs": [
    {
     "data": {
      "text/plain": [
       "'갤럭시 북  ???엣지는%  #   . cm(  형)  종과@   . cm...(  형)**  종 등! 모두 세 가지 모델로 출시된다.   형 기준 최대   시간의 동영상 재생이 가능한 배터리가 탑재됐고, 초고속 충전 기능도 갖췄다.'"
      ]
     },
     "execution_count": 29,
     "metadata": {},
     "output_type": "execute_result"
    }
   ],
   "source": [
    "word = '갤럭시 북4 ???엣지는%44# 35.6cm(14형) 1종과@ 40.6cm...(16형)** 2종 등! 모두 세 가지 모델로 출시된다. 16형 기준 최대 22시간의 동영상 재생이 가능한 배터리가 탑재됐고, 초고속 충전 기능도 갖췄다.'\n",
    "\n",
    "words = re.sub('[0-9]',' ',word) # 대괄호 안에 ^ 가 있으면 not\n",
    "words"
   ]
  },
  {
   "cell_type": "code",
   "execution_count": 30,
   "metadata": {},
   "outputs": [
    {
     "data": {
      "text/plain": [
       "'갤럭시 북4    엣지는 44  35 6cm 14형  1종과  40 6cm    16형    2종 등  모두 세 가지 모델로 출시된다  16형 기준 최대 22시간의 동영상 재생이 가능한 배터리가 탑재됐고  초고속 충전 기능도 갖췄다 '"
      ]
     },
     "execution_count": 30,
     "metadata": {},
     "output_type": "execute_result"
    }
   ],
   "source": [
    "word = '갤럭시 북4 ???엣지는%44# 35.6cm(14형) 1종과@ 40.6cm...(16형)** 2종 등! 모두 세 가지 모델로 출시된다. 16형 기준 최대 22시간의 동영상 재생이 가능한 배터리가 탑재됐고, 초고속 충전 기능도 갖췄다.'\n",
    "\n",
    "words = re.sub('[^0-9a-zA-Zㄱ-ㅎ가-힣]',' ',word) # 대괄호 안에 ^ 가 있으면 not\n",
    "words"
   ]
  },
  {
   "cell_type": "code",
   "execution_count": 52,
   "metadata": {},
   "outputs": [
    {
     "name": "stdout",
     "output_type": "stream",
     "text": [
      "일치 a001\n"
     ]
    }
   ],
   "source": [
    "# 첫글자가 영문이면서, 숫자와 영문 상관 없이 총 6자리인 문자 확인\n",
    "word = 'a001'\n",
    "if re.match('^[a-z]{1}[a-zA-Z0-9]{3}$',word):\n",
    "    print('일치',word)\n",
    "else:\n",
    "    print('불일치',word)"
   ]
  },
  {
   "cell_type": "code",
   "execution_count": null,
   "metadata": {},
   "outputs": [],
   "source": []
  }
 ],
 "metadata": {
  "kernelspec": {
   "display_name": "Python 3",
   "language": "python",
   "name": "python3"
  },
  "language_info": {
   "codemirror_mode": {
    "name": "ipython",
    "version": 3
   },
   "file_extension": ".py",
   "mimetype": "text/x-python",
   "name": "python",
   "nbconvert_exporter": "python",
   "pygments_lexer": "ipython3",
   "version": "3.12.0"
  }
 },
 "nbformat": 4,
 "nbformat_minor": 2
}
