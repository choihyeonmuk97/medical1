{
 "cells": [
  {
   "cell_type": "code",
   "execution_count": 4,
   "metadata": {},
   "outputs": [],
   "source": [
    "import pandas as pd\n",
    "df = pd.read_excel('score.xlsx',index_col='지원번호')\n"
   ]
  },
  {
   "cell_type": "code",
   "execution_count": 19,
   "metadata": {},
   "outputs": [
    {
     "name": "stdout",
     "output_type": "stream",
     "text": [
      "       이름   학교    키  국어  영어  수학  과학  사회 SW특기\n",
      "지원번호                                        \n",
      "4번    김수찬  구로고  187  40  60  70  75  80  NaN\n",
      "5번    김재욱  구로고  188  15  20  10  35  10  NaN\n"
     ]
    }
   ],
   "source": [
    "inputName = input('이름을 입력하세요 : ')\n",
    "# inputName = '다'\n",
    "filt = df['이름'].str.contains(inputName)\n",
    "# df.loc[filt,'이름'].count() > 0\n",
    "if df.loc[filt,'이름'].count() > 0:\n",
    "    print(df[filt])\n",
    "else: \n",
    "    print('데이터 없음')"
   ]
  },
  {
   "cell_type": "code",
   "execution_count": 38,
   "metadata": {},
   "outputs": [
    {
     "name": "stdout",
     "output_type": "stream",
     "text": [
      "       이름   학교    키   국어   영어   수학  과학  사회        SW특기\n",
      "지원번호                                                  \n",
      "1번    강나래  구로고  197   90   85  100  95  85      Python\n",
      "3번    강호림  구로고  168   80   75   70  80  75  javascript\n",
      "6번    박동현  단지고  202   80  100   95  85  80           C\n",
      "8번    승근열  단지고  190  100   85   90  95  95          c#\n"
     ]
    }
   ],
   "source": [
    "# 국어점수 입력받은 점수 이상의 데이터 출력\n",
    "inputNum = int(input('점수를 입력하세요 : '))\n",
    "\n",
    "df['국어']\n",
    "filt = df['국어'] >= inputNum\n",
    "df[filt]\n",
    "# filt\n",
    "\n",
    "if df.loc[filt,'국어'].count() > 0 :\n",
    "    print(df[filt])\n",
    "else:\n",
    "    print('데이터 없음')"
   ]
  },
  {
   "cell_type": "code",
   "execution_count": 47,
   "metadata": {},
   "outputs": [
    {
     "data": {
      "text/html": [
       "<div>\n",
       "<style scoped>\n",
       "    .dataframe tbody tr th:only-of-type {\n",
       "        vertical-align: middle;\n",
       "    }\n",
       "\n",
       "    .dataframe tbody tr th {\n",
       "        vertical-align: top;\n",
       "    }\n",
       "\n",
       "    .dataframe thead th {\n",
       "        text-align: right;\n",
       "    }\n",
       "</style>\n",
       "<table border=\"1\" class=\"dataframe\">\n",
       "  <thead>\n",
       "    <tr style=\"text-align: right;\">\n",
       "      <th></th>\n",
       "      <th>title</th>\n",
       "    </tr>\n",
       "  </thead>\n",
       "  <tbody>\n",
       "    <tr>\n",
       "      <th>0</th>\n",
       "      <td>내일은 날씨가 맑음. 반가워 다음에 봐요.</td>\n",
       "    </tr>\n",
       "    <tr>\n",
       "      <th>1</th>\n",
       "      <td>반갑습니다. 반가워</td>\n",
       "    </tr>\n",
       "    <tr>\n",
       "      <th>2</th>\n",
       "      <td>내일봐요. 내일은 날씨가 좋아요. 반가워</td>\n",
       "    </tr>\n",
       "  </tbody>\n",
       "</table>\n",
       "</div>"
      ],
      "text/plain": [
       "                     title\n",
       "0  내일은 날씨가 맑음. 반가워 다음에 봐요.\n",
       "1               반갑습니다. 반가워\n",
       "2   내일봐요. 내일은 날씨가 좋아요. 반가워"
      ]
     },
     "execution_count": 47,
     "metadata": {},
     "output_type": "execute_result"
    }
   ],
   "source": [
    "a = \"내일은 날씨가 맑음. 안녕 다음에 봐요.\"\n",
    "# 안녕 -> 반가워\n",
    "# a.replace('안녕','반가워')\n",
    "# a #??? 왜 안됨?\n",
    "\n",
    "a_list = [a,'반갑습니다. 안녕','내일봐요. 내일은 날씨가 좋아요. 안녕']\n",
    "data = {'title':a_list}\n",
    "df = pd.DataFrame(data)\n",
    "\n",
    "df['title'] = df['title'].str.replace('안녕','반가워') # 이건 또 되네?\n",
    "df"
   ]
  },
  {
   "cell_type": "code",
   "execution_count": null,
   "metadata": {},
   "outputs": [],
   "source": []
  }
 ],
 "metadata": {
  "kernelspec": {
   "display_name": "Python 3",
   "language": "python",
   "name": "python3"
  },
  "language_info": {
   "codemirror_mode": {
    "name": "ipython",
    "version": 3
   },
   "file_extension": ".py",
   "mimetype": "text/x-python",
   "name": "python",
   "nbconvert_exporter": "python",
   "pygments_lexer": "ipython3",
   "version": "3.12.0"
  }
 },
 "nbformat": 4,
 "nbformat_minor": 2
}
