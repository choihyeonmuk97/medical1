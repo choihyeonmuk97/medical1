{
 "cells": [
  {
   "cell_type": "code",
   "execution_count": 20,
   "metadata": {},
   "outputs": [
    {
     "name": "stdout",
     "output_type": "stream",
     "text": [
      "인구의 합 :\n",
      "전국   : 25631538\n",
      "서울특별시   : 4567739\n",
      "부산광역시   : 1618749\n",
      "대구광역시   : 1162217\n",
      "인천광역시   : 1486300\n",
      "광주광역시   : 706724\n",
      "대전광역시   : 721037\n",
      "울산광역시   : 570113\n",
      "세종특별자치시   : 191769\n",
      "경기도   : 6842226\n",
      "강원도   : 772297\n",
      "충청북도   : 810740\n",
      "충청남도   : 1086686\n",
      "전라북도   : 879922\n",
      "전라남도   : 914811\n",
      "경상북도   : 1310583\n",
      "경상남도   : 1650300\n",
      "제주특별자치도   : 339325\n"
     ]
    },
    {
     "name": "stderr",
     "output_type": "stream",
     "text": [
      "c:\\Python312\\Lib\\site-packages\\openpyxl\\styles\\stylesheet.py:226: UserWarning: Workbook contains no default style, apply openpyxl's default\n",
      "  warn(\"Workbook contains no default style, apply openpyxl's default\")\n"
     ]
    }
   ],
   "source": [
    "import pandas as pd\n",
    "\n",
    "df = pd.read_excel('20230103_인구.xlsx',skiprows=3,usecols='B,E:Y',index_col='행정기관')\n",
    "\n",
    "for i in range(df.shape[0]):\n",
    "    df.iloc[i] = df.iloc[i].str.replace(',','').astype(int)\n",
    "\n",
    "df['0~4세'].sum()\n",
    "df.iloc[0].sum()\n",
    "\n",
    "print('인구의 합 :')\n",
    "for i in range(df.shape[0]):\n",
    "    print(df.index[i],':',df.iloc[i].sum()) \n",
    "\n",
    "# df"
   ]
  },
  {
   "cell_type": "code",
   "execution_count": 14,
   "metadata": {},
   "outputs": [
    {
     "data": {
      "text/plain": [
       "'전국  '"
      ]
     },
     "execution_count": 14,
     "metadata": {},
     "output_type": "execute_result"
    }
   ],
   "source": [
    "df.index[0]"
   ]
  }
 ],
 "metadata": {
  "kernelspec": {
   "display_name": "Python 3",
   "language": "python",
   "name": "python3"
  },
  "language_info": {
   "codemirror_mode": {
    "name": "ipython",
    "version": 3
   },
   "file_extension": ".py",
   "mimetype": "text/x-python",
   "name": "python",
   "nbconvert_exporter": "python",
   "pygments_lexer": "ipython3",
   "version": "3.12.0"
  }
 },
 "nbformat": 4,
 "nbformat_minor": 2
}
