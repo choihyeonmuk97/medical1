{
 "cells": [
  {
   "cell_type": "code",
   "execution_count": 2,
   "metadata": {},
   "outputs": [],
   "source": [
    "from sklearn import svm,metrics\n",
    "from sklearn.neighbors import KNeighborsClassifier\n",
    "from sklearn.model_selection import train_test_split # 데이터 나눔\n",
    "import pandas as pd\n",
    "import numpy as np\n",
    "import matplotlib.pyplot as plt\n",
    "import matplotlib\n",
    "import random\n",
    "import glob, os.path, re\n",
    "matplotlib.rcParams['axes.unicode_minus'] = False  # 마이너스 표시 해결\n",
    "# 한글설정\n",
    "matplotlib.rcParams['font.family'] = 'Malgun Gothic' # windows 사용자\n",
    "# matplotlib.rcParams['font.family'] = 'AppleGothic Gothic' # Mac사용자\n",
    "matplotlib.rcParams['font.size'] = '10' # 글자크기"
   ]
  },
  {
   "cell_type": "code",
   "execution_count": 4,
   "metadata": {},
   "outputs": [
    {
     "name": "stdout",
     "output_type": "stream",
     "text": [
      "제대로 입력됨\n"
     ]
    }
   ],
   "source": [
    "# 데이터를 입력받아 길이가 6자리, 첫글자 a가 입력이 되면 \n",
    "# 제대로 입력되었습니다, 다시 입력하세요\n",
    "# 제대로 입력되어야 프로그램 종료\n",
    "while True:\n",
    "    w_input = input('글자를 입력하세요. ')\n",
    "    if len(w_input) == 6 and w_input.startswith('a')  :\n",
    "        print('제대로 입력됨')\n",
    "        break\n",
    "    else:\n",
    "        print('다시 입력')"
   ]
  },
  {
   "cell_type": "code",
   "execution_count": null,
   "metadata": {},
   "outputs": [],
   "source": [
    "# 데이터를 입력받아 길이가 6자리인 숫자만 입력가능, 첫자리 1이면서 입력이 되면 \n",
    "# 제대로 입력되었습니다, 다시 입력하세요\n",
    "# 제대로 입력되어야 프로그램 종료\n",
    "while True:\n",
    "    w_input = input('글자를 입력하세요. ')\n",
    "    if w_input.isdigit() and len(w_input) == 6 and w_input[0] == '1'  :\n",
    "        print('제대로 입력됨')\n",
    "        break\n",
    "    else:\n",
    "        print('다시 입력')"
   ]
  },
  {
   "cell_type": "code",
   "execution_count": 11,
   "metadata": {},
   "outputs": [
    {
     "name": "stdout",
     "output_type": "stream",
     "text": [
      "불일치\n"
     ]
    }
   ],
   "source": [
    "import re\n",
    "# 정규 표현식\n",
    "p = re.compile('ca.e') # 정규표현식을 지정\n",
    "word = 'cafe'\n",
    "word2 = 'care'\n",
    "word3 = 'cark'\n",
    "\n",
    "if p.match(word3):\n",
    "    print('일치')\n",
    "else:\n",
    "    print('불일치')\n"
   ]
  },
  {
   "cell_type": "code",
   "execution_count": 14,
   "metadata": {},
   "outputs": [
    {
     "name": "stdout",
     "output_type": "stream",
     "text": [
      "불일치 adeskzz\n"
     ]
    }
   ],
   "source": [
    "word = 'adeskzz'\n",
    "if re.match(r'^(de)',word): # ^단어 : 해당 단어로 시작이 되어야함\n",
    "    print('일치',word)\n",
    "else:\n",
    "    print('불일치',word)"
   ]
  },
  {
   "cell_type": "code",
   "execution_count": 27,
   "metadata": {},
   "outputs": [
    {
     "name": "stdout",
     "output_type": "stream",
     "text": [
      "일치 case\n"
     ]
    }
   ],
   "source": [
    "p = re.compile('se$') # 정규표현식을 지정\n",
    "word = 'case'\n",
    "if p.search(word): # 단어$ : 해당 단어로 끝나야야함 // match : 반드시 일치해야 True , search : 포함하면 True\n",
    "    print('일치',word)\n",
    "else:\n",
    "    print('불일치',word)"
   ]
  },
  {
   "cell_type": "code",
   "execution_count": 33,
   "metadata": {},
   "outputs": [
    {
     "name": "stdout",
     "output_type": "stream",
     "text": [
      "일치 abcdef\n"
     ]
    }
   ],
   "source": [
    "# {자리 수} : {3} -> 3자리이어야함 / {2,3} 2~3자리\n",
    "# [] : [] 안에 있는 글자만 True\n",
    "# 축약 가능\n",
    "# a-z : a~z / A-Z : A~Z\n",
    "# 0-9 : 0123456789\n",
    "\n",
    "# 첫글자가 a 이면서, 영문(소문자) 5자리인지?\n",
    "word = 'abcdef'\n",
    "if re.match(r'^a{1}[a-z]{5}$',word):\n",
    "    print('일치',word)\n",
    "else:\n",
    "    print('불일치',word)"
   ]
  },
  {
   "cell_type": "code",
   "execution_count": 41,
   "metadata": {},
   "outputs": [
    {
     "name": "stdout",
     "output_type": "stream",
     "text": [
      "일치 011-1234-4567\n"
     ]
    }
   ],
   "source": [
    "word = '011-1234-4567'\n",
    "if re.search('[0-9]{2,3}-[0-9]{4}-[0-9]{4}',word):\n",
    "    print('일치',word)\n",
    "else: print('불일치', word)"
   ]
  },
  {
   "cell_type": "code",
   "execution_count": null,
   "metadata": {},
   "outputs": [],
   "source": []
  }
 ],
 "metadata": {
  "kernelspec": {
   "display_name": "Python 3",
   "language": "python",
   "name": "python3"
  },
  "language_info": {
   "codemirror_mode": {
    "name": "ipython",
    "version": 3
   },
   "file_extension": ".py",
   "mimetype": "text/x-python",
   "name": "python",
   "nbconvert_exporter": "python",
   "pygments_lexer": "ipython3",
   "version": "3.12.0"
  }
 },
 "nbformat": 4,
 "nbformat_minor": 2
}
